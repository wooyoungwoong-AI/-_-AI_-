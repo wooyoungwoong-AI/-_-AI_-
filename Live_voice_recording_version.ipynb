{
 "cells": [
  {
   "cell_type": "code",
   "execution_count": 25,
   "id": "f1575817-2ba8-4175-993b-eccfb44efc1b",
   "metadata": {},
   "outputs": [],
   "source": [
    "import speech_recognition as sr\n",
    "from gtts import gTTS\n",
    "import playsound\n",
    "import openai\n",
    "import time\n",
    "from pydub import AudioSegment\n",
    "from pydub.playback import play\n",
    "import os\n",
    "import requests\n",
    "import json\n",
    "from IPython.display import Audio\n",
    "from tensorflow import keras\n",
    "import numpy as np\n",
    "from tensorflow.keras.preprocessing.image import load_img, img_to_array\n",
    "from PIL import Image\n",
    "import cv2"
   ]
  },
  {
   "cell_type": "code",
   "execution_count": 26,
   "id": "ae2d1f8d-8f5d-4cc4-ae63-15db60daa60a",
   "metadata": {},
   "outputs": [],
   "source": [
    "# Camera Part\n",
    "def using_camera():\n",
    "    now = time\n",
    "    cap = cv2.VideoCapture(0)\n",
    "    cap.set(3, 640)\n",
    "    cap.set(4, 480)\n",
    "\n",
    "    ret, frame = cap.read()\n",
    "    frame = cv2.flip(frame, 1)\n",
    "\n",
    "    image_name = now.strftime('%Y-%m-%d_%H:%M:%S') + 'jpg'\n",
    "    cv2.imwrite(image_name, frame)\n",
    "\n",
    "    cap_release()\n",
    "    cv2.destroyAllWindows()\n",
    "    return image_name"
   ]
  },
  {
   "cell_type": "code",
   "execution_count": 15,
   "id": "1f603745-dc61-4a94-b1c5-1b30dbf82638",
   "metadata": {},
   "outputs": [],
   "source": [
    "# Model Part\n",
    "categories = [\"가스레인지\", \"다리미\", \"소화기\", \"커피포트\"] # 대회 시간에 맞추기 위해 최소한의 카테고리로 구성하였습니다.\n",
    "model = keras.models.load_model('D:/영웅/Documents/영웅/대회/2023년 SW미래채움 고등부/문서/심화 프로젝트/CNN_Classification.h5', compile=False) # 학습 후 저장 한 모델 불러오기\n",
    "def using_model(input_data):\n",
    "  img = Image.open(input_data)\n",
    "  img = img.convert(\"RGB\")\n",
    "  img = img.resize((64, 64))\n",
    "  data = np.asarray(img)\n",
    "  X = np.array(data)\n",
    "  X = X.astype(\"float\") / 256\n",
    "  X = X.reshape(-1, 64, 64, 3)\n",
    "\n",
    "  pred = model.predict(X)\n",
    "  result = [np.argmax(value) for value in pred]\n",
    "  return categories[result[0]]"
   ]
  },
  {
   "cell_type": "code",
   "execution_count": 17,
   "id": "edbb3989-c066-4e02-9e7b-307bc64714ee",
   "metadata": {},
   "outputs": [],
   "source": [
    "# TTS Part\n",
    "def speak(text):\n",
    "    now = time\n",
    "    tts = gTTS(text=text, lang='ko')\n",
    "    filename = now.strftime('%Y-%m-%d_%H:%M:%S') + '.mp3'\n",
    "    tts.save(filename)\n",
    "    audio = Audio(filename)\n",
    "    display.display(audio)"
   ]
  },
  {
   "cell_type": "code",
   "execution_count": 27,
   "id": "e2e8c487-0181-48cd-9f59-664ae9122b79",
   "metadata": {},
   "outputs": [],
   "source": [
    "r = sr.Recognizer()"
   ]
  },
  {
   "cell_type": "code",
   "execution_count": 28,
   "id": "17f6575b-f0e0-4057-8559-93fe28fb9d59",
   "metadata": {},
   "outputs": [],
   "source": [
    "# Recording Part\n",
    "def Recording():\n",
    "    with sr.Microphone() as source:\n",
    "        print('녹음 시작')\n",
    "        audio = r.listen(source)\n",
    "        print('녹음 끝')\n",
    "\n",
    "    try:\n",
    "        text = r.recognize_google(audio, language='ko')\n",
    "\n",
    "    except sr.UnknownValueError:\n",
    "        print('인식 실패')\n",
    "\n",
    "    except sr.RequestError as e:\n",
    "        print(f\"요청 실패 : {e}\")\n",
    "    return text"
   ]
  },
  {
   "cell_type": "code",
   "execution_count": 29,
   "id": "829e1534-1596-49ec-8e7a-865229344b2b",
   "metadata": {},
   "outputs": [],
   "source": [
    "# Translator Part\n",
    "def translator(text):\n",
    "  client_id = \"\"\n",
    "  client_secret = \"\"\n",
    "  data = {'text' : text,\n",
    "          'source' : 'ko',\n",
    "          'target' : 'en'}\n",
    "  url = \"https://openapi.naver.com/v1/papago/n2mt\"\n",
    "  header = {\"X-Naver-Client-id\":client_id,\n",
    "            \"X-Naver-client-Secret\":client_secret}\n",
    "  response = requests.post(url, headers=header, data=data)\n",
    "  rescode = response.status_code\n",
    "  if(rescode==200):\n",
    "    send_data = response.json()\n",
    "    trans_data = (send_data['message']['result']['translatedText'])\n",
    "    return trans_data\n",
    "  else:\n",
    "    print(\"Error Code:\", rescode)"
   ]
  },
  {
   "cell_type": "code",
   "execution_count": null,
   "id": "6da2da99-5393-4860-bdb5-bde4740e36df",
   "metadata": {},
   "outputs": [],
   "source": [
    "# GPT Part\n",
    "open.api_key = \"\""
   ]
  },
  {
   "cell_type": "code",
   "execution_count": null,
   "id": "7490510b-ff9b-485a-bb0b-402451a70368",
   "metadata": {},
   "outputs": [],
   "source": [
    "from PIL import Image\n",
    "import requests\n",
    "from io import BytesIO\n",
    "import IPython.display as display\n",
    "\n",
    "def display_image(url) :\n",
    "  image_response = requests.get(url)\n",
    "  img = Image.open(BytesIO(image_response.content))\n",
    "\n",
    "  display.display(img)"
   ]
  },
  {
   "cell_type": "code",
   "execution_count": null,
   "id": "25881e18-2be3-40db-92ea-a99862887da3",
   "metadata": {},
   "outputs": [],
   "source": [
    "def using_gpt(input_prompt):\n",
    "  text_response = openai.ChatCompletion.create(\n",
    "      model=\"ft:gpt-3.5-turbo-0613:swhub-ai:chat-giseong07:86GUjiXW\",\n",
    "      max_tokens=3000,\n",
    "      messages=[\n",
    "          {\"role\": \"system\", \"content\": \"시각 장애인에 대해 편견이 없고 시각 장애인이 이해하기 쉽도록 질문에 대답해 주시고 친절하게 설명해 주시는 사회복지사\"},\n",
    "          {\"role\": \"user\", \"content\": input_prompt}])\n",
    "  return text_response[\"choices\"][0].message.content"
   ]
  },
  {
   "cell_type": "code",
   "execution_count": null,
   "id": "ccd16750-ff71-4083-8466-92dd3f9e4cc0",
   "metadata": {},
   "outputs": [],
   "source": [
    "speak('질문과 그림 생성 중 한가지를 골라 이야기 해주세요. ') # TTS\n",
    "select_input = Recording() # Recording\n",
    "print(f\"당신의 답변 : {select_input}\")\n",
    "\n",
    "# 질문이라고 이야기 하신 경우 gpt에게 음성으로 프롬프트에 들어갈 말을 해주세요.\n",
    "if select_input in '질문':\n",
    "  # 질문 받을 프롬프트를 이미지 또는 음성 둘 중 선택할 수 있습니다.\n",
    "  speak('프롬프트를 음성으로 입력할지 사진 촬영으로 입력할지 선택하여 이야기 해주세요.') # speak\n",
    "  selection_mode = Recording() # Recording\n",
    "  print(f\"당신의 답변 : {selection_mode}\")\n",
    "  if selection_mode  in '사진 촬영':\n",
    "    speak('사진을 촬영해 주세요.') # speak\n",
    "    image_name = using_camera()\n",
    "    input_prompt = using_model('D:/영웅/Documents/영웅/대회/2023년 SW미래채움 고등부/문서/심화 프로젝트/') + image_name # using_model\n",
    "    print('Model 예측 완료')\n",
    "    input_prompt = input_prompt + ' 사용법을 알려줘'\n",
    "    time.sleep(5)\n",
    "    speak('텍스트와 TTS를 생성하고 있습니다. 잠시만 기다려주세요.') # Speak\n",
    "    output_text = using_gpt(input_prompt) # using_gpt\n",
    "    print(output_text) # text 출력\n",
    "    speak(output_text) # speak\n",
    "  else:\n",
    "    speak('프롬프트에 들어갈 문장을 이야기 해주세요.') # TTS\n",
    "    input_prompt = Recording() # Recording\n",
    "    print(f\"당신의 답변 : {input_prompt}\")\n",
    "    speak('텍스트와 TTS를 생성하고 있습니다. 잠시만 기다려주세요.') # Speak\n",
    "    output_text = using_gpt(input_prompt) # using_gpt\n",
    "    print(output_text) # text 출력\n",
    "    speak(output_text) # speak\n",
    "    # 그림 생성이라고 이야기 하신 경우에 프롬프트에 그리고 싶은 것을 말해주시고 프롬프트는 영어로 번역되어 들어갑니다.\n",
    "elif select_input in '그림 생성':\n",
    "  speak('프롬프트에 들어갈 문장을 이야기 해주세요.') # TTS\n",
    "  input_prompt = Recording() # Recording\n",
    "  print(f\"당신의 답변 : {input_prompt}\")\n",
    "  image_response = openai.Image.create(\n",
    "    prompt=translator(input_prompt), # Translate\n",
    "    n=1,\n",
    "    size=\"512x512\" # 256X256\n",
    "  )\n",
    "  display_image(image_response[\"data\"][0]['url']) # Show Image\n"
   ]
  },
  {
   "cell_type": "code",
   "execution_count": null,
   "id": "becd5f1a-2af6-4ec6-87e5-2684849050c5",
   "metadata": {},
   "outputs": [],
   "source": []
  },
  {
   "cell_type": "code",
   "execution_count": null,
   "id": "ff224f06-24cb-4522-bb1e-e19193e904f5",
   "metadata": {},
   "outputs": [],
   "source": []
  }
 ],
 "metadata": {
  "kernelspec": {
   "display_name": "Python 3 (ipykernel)",
   "language": "python",
   "name": "python3"
  },
  "language_info": {
   "codemirror_mode": {
    "name": "ipython",
    "version": 3
   },
   "file_extension": ".py",
   "mimetype": "text/x-python",
   "name": "python",
   "nbconvert_exporter": "python",
   "pygments_lexer": "ipython3",
   "version": "3.10.6"
  }
 },
 "nbformat": 4,
 "nbformat_minor": 5
}
